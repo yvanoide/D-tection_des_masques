{
  "cells": [
    {
      "cell_type": "code",
      "execution_count": null,
      "metadata": {
        "id": "VYLXcnXF43Mi"
      },
      "outputs": [],
      "source": [
        "# Importation des bibliothèques nécessaires\n",
        "import os\n",
        "import numpy as np\n",
        "import tensorflow as tf\n",
        "from tensorflow.keras.preprocessing.image import ImageDataGenerator\n",
        "from tensorflow.keras.applications import VGG16\n",
        "from tensorflow.keras.layers import Dense, GlobalAveragePooling2D\n",
        "from tensorflow.keras.models import Model\n",
        "from tensorflow.keras.optimizers import Adam\n",
        "from tensorflow.keras.callbacks import ModelCheckpoint\n",
        "from sklearn.metrics import classification_report, confusion_matrix\n",
        "import matplotlib.pyplot as plt\n",
        "import cv2"
      ]
    },
    {
      "cell_type": "code",
      "execution_count": null,
      "metadata": {
        "colab": {
          "base_uri": "https://localhost:8080/"
        },
        "id": "quluMBum0ulH",
        "outputId": "a682df31-edcf-4b0a-ef64-5acb597f2058"
      },
      "outputs": [
        {
          "name": "stdout",
          "output_type": "stream",
          "text": [
            "Mounted at /content/drive\n"
          ]
        }
      ],
      "source": [
        "# Montage de Google Drive pour accéder à la base de données\n",
        "from google.colab import drive\n",
        "drive.mount('/content/drive')"
      ]
    },
    {
      "cell_type": "code",
      "execution_count": null,
      "metadata": {
        "colab": {
          "base_uri": "https://localhost:8080/"
        },
        "id": "MFYUqJr73EGY",
        "outputId": "ecd4ae5b-46d0-42d6-bed1-f835616f39e1"
      },
      "outputs": [
        {
          "name": "stdout",
          "output_type": "stream",
          "text": [
            "Le dossier with_mask contient 755 images\n",
            "Le dossier without_mask contient 753 images\n"
          ]
        }
      ],
      "source": [
        "import os\n",
        "\n",
        "# Chemin vers la base de données\n",
        "data_dir = '/content/drive/MyDrive/Mask_Data'\n",
        "\n",
        "# Liste des dossiers\n",
        "folders = os.listdir(data_dir)\n",
        "\n",
        "# Compter le nombre d'images dans chaque dossier\n",
        "for folder in folders:\n",
        "    print(f\"Le dossier {folder} contient {len(os.listdir(os.path.join(data_dir, folder)))} images\")\n"
      ]
    },
    {
      "cell_type": "code",
      "execution_count": null,
      "metadata": {
        "colab": {
          "base_uri": "https://localhost:8080/"
        },
        "id": "S9Lk_jr50zEk",
        "outputId": "44f671fc-79b1-4cc8-c31a-d7c1f5bef72d"
      },
      "outputs": [
        {
          "name": "stdout",
          "output_type": "stream",
          "text": [
            "Found 1207 images belonging to 2 classes.\n",
            "Found 301 images belonging to 2 classes.\n"
          ]
        }
      ],
      "source": [
        "# Définition des paramètres\n",
        "img_height, img_width = 224, 224\n",
        "batch_size = 32\n",
        "\n",
        "# Data Augmentation\n",
        "train_datagen = ImageDataGenerator(\n",
        "    rescale=1.0/255.0,\n",
        "    rotation_range=20,\n",
        "    width_shift_range=0.2,\n",
        "    height_shift_range=0.2,\n",
        "    shear_range=0.2,\n",
        "    zoom_range=0.2,\n",
        "    horizontal_flip=True,\n",
        "    validation_split=0.20\n",
        ")\n",
        "\n",
        "train_generator = train_datagen.flow_from_directory(\n",
        "    data_dir,\n",
        "    target_size=(img_height, img_width),\n",
        "    batch_size=batch_size,\n",
        "    class_mode='categorical',\n",
        "    subset='training'\n",
        ")\n",
        "\n",
        "validation_generator = train_datagen.flow_from_directory(\n",
        "    data_dir,\n",
        "    target_size=(img_height, img_width),\n",
        "    batch_size=batch_size,\n",
        "    class_mode='categorical',\n",
        "    subset='validation'\n",
        ")"
      ]
    },
    {
      "cell_type": "code",
      "execution_count": null,
      "metadata": {
        "colab": {
          "base_uri": "https://localhost:8080/"
        },
        "id": "P2idGJFm04qB",
        "outputId": "f729f90d-acfb-4abc-ccc9-6b14356c2aee"
      },
      "outputs": [
        {
          "name": "stdout",
          "output_type": "stream",
          "text": [
            "Downloading data from https://storage.googleapis.com/tensorflow/keras-applications/vgg16/vgg16_weights_tf_dim_ordering_tf_kernels_notop.h5\n",
            "58889256/58889256 [==============================] - 0s 0us/step\n"
          ]
        }
      ],
      "source": [
        "# Chargement du modèle VGG16 pré-entraîné\n",
        "base_model = VGG16(weights='imagenet', include_top=False, input_shape=(img_height, img_width, 3))\n",
        "\n",
        "# Ajout de la couche de classification\n",
        "x = base_model.output\n",
        "x = GlobalAveragePooling2D()(x)\n",
        "x = Dense(1024, activation='relu')(x)\n",
        "predictions = Dense(2, activation='softmax')(x)\n",
        "\n",
        "model = Model(inputs=base_model.input, outputs=predictions)"
      ]
    },
    {
      "cell_type": "code",
      "execution_count": null,
      "metadata": {
        "colab": {
          "background_save": true,
          "base_uri": "https://localhost:8080/"
        },
        "id": "0cc8KEGu087v",
        "outputId": "15c44fb1-07a5-4b4c-e447-b6a9e07d979b"
      },
      "outputs": [
        {
          "name": "stdout",
          "output_type": "stream",
          "text": [
            "Epoch 1/10\n",
            "38/38 [==============================] - ETA: 0s - loss: 0.6590 - accuracy: 0.6031"
          ]
        },
        {
          "name": "stderr",
          "output_type": "stream",
          "text": [
            "/usr/local/lib/python3.10/dist-packages/keras/src/engine/training.py:3000: UserWarning: You are saving your model as an HDF5 file via `model.save()`. This file format is considered legacy. We recommend using instead the native Keras format, e.g. `model.save('my_model.keras')`.\n",
            "  saving_api.save_model(\n"
          ]
        },
        {
          "name": "stdout",
          "output_type": "stream",
          "text": [
            "38/38 [==============================] - 338s 8s/step - loss: 0.6590 - accuracy: 0.6031 - val_loss: 0.3743 - val_accuracy: 0.8671\n",
            "Epoch 2/10\n",
            "38/38 [==============================] - 30s 771ms/step - loss: 0.2265 - accuracy: 0.9147 - val_loss: 0.1079 - val_accuracy: 0.9635\n",
            "Epoch 3/10\n",
            "38/38 [==============================] - 29s 768ms/step - loss: 0.0588 - accuracy: 0.9843 - val_loss: 0.0364 - val_accuracy: 0.9867\n",
            "Epoch 4/10\n",
            "38/38 [==============================] - 29s 754ms/step - loss: 0.0399 - accuracy: 0.9892 - val_loss: 0.0413 - val_accuracy: 0.9801\n",
            "Epoch 5/10\n",
            "38/38 [==============================] - 29s 755ms/step - loss: 0.0336 - accuracy: 0.9876 - val_loss: 0.0367 - val_accuracy: 0.9867\n",
            "Epoch 6/10\n",
            "38/38 [==============================] - 29s 764ms/step - loss: 0.0593 - accuracy: 0.9793 - val_loss: 0.0357 - val_accuracy: 0.9867\n",
            "Epoch 7/10\n",
            "38/38 [==============================] - 30s 781ms/step - loss: 0.0400 - accuracy: 0.9884 - val_loss: 0.0298 - val_accuracy: 0.9934\n",
            "Epoch 8/10\n",
            "38/38 [==============================] - 30s 784ms/step - loss: 0.0910 - accuracy: 0.9702 - val_loss: 0.0167 - val_accuracy: 0.9934\n",
            "Epoch 9/10\n",
            "38/38 [==============================] - 30s 800ms/step - loss: 0.0169 - accuracy: 0.9942 - val_loss: 0.0402 - val_accuracy: 0.9867\n",
            "Epoch 10/10\n",
            "38/38 [==============================] - 30s 799ms/step - loss: 0.0132 - accuracy: 0.9975 - val_loss: 0.0263 - val_accuracy: 0.9900\n"
          ]
        }
      ],
      "source": [
        "\n",
        "# Compilation du modèle\n",
        "model.compile(optimizer=Adam(learning_rate=0.0001), loss='categorical_crossentropy', metrics=['accuracy'])\n",
        "\n",
        "# Définition de ModelCheckpoint pour sauvegarder le meilleur modèle\n",
        "checkpoint = ModelCheckpoint(\"best_model.h5\", save_best_only=True, monitor='val_accuracy', mode='max')\n",
        "\n",
        "# Entraînement du modèle\n",
        "history = model.fit(\n",
        "    train_generator,\n",
        "    epochs=10,\n",
        "    validation_data=validation_generator,\n",
        "    callbacks=[checkpoint]\n",
        ")"
      ]
    },
    {
      "cell_type": "code",
      "execution_count": null,
      "metadata": {
        "colab": {
          "background_save": true
        },
        "id": "4r7Z87Xv1DyP",
        "outputId": "23047374-b786-41ee-8cf4-84f874fad259"
      },
      "outputs": [
        {
          "data": {
            "text/plain": [
              "<matplotlib.legend.Legend at 0x7a40d04699f0>"
            ]
          },
          "execution_count": 7,
          "metadata": {},
          "output_type": "execute_result"
        },
        {
          "data": {
            "image/png": "[encoded data removed]",
            "text/plain": [
              "<Figure size 1200x400 with 2 Axes>"
            ]
          },
          "metadata": {},
          "output_type": "display_data"
        }
      ],
      "source": [
        "# Tracé des courbes d'accuracy et de loss\n",
        "plt.figure(figsize=(12, 4))\n",
        "plt.subplot(1, 2, 1)\n",
        "plt.plot(history.history['accuracy'], label='Train Accuracy')\n",
        "plt.plot(history.history['val_accuracy'], label='Validation Accuracy')\n",
        "plt.xlabel('Epochs')\n",
        "plt.ylabel('Accuracy')\n",
        "plt.legend()\n",
        "\n",
        "plt.subplot(1, 2, 2)\n",
        "plt.plot(history.history['loss'], label='Train Loss')\n",
        "plt.plot(history.history['val_loss'], label='Validation Loss')\n",
        "plt.xlabel('Epochs')\n",
        "plt.ylabel('Loss')\n",
        "plt.legend()"
      ]
    },
    {
      "cell_type": "code",
      "execution_count": null,
      "metadata": {
        "id": "yNxlUwgt1GDx"
      },
      "outputs": [],
      "source": [
        "# Évaluation du modèle sur les données de test\n",
        "test_datagen = ImageDataGenerator(rescale=1.0/255.0)\n",
        "\n",
        "test_generator = test_datagen.flow_from_directory(\n",
        "    data_dir,\n",
        "    target_size=(img_height, img_width),\n",
        "    batch_size=batch_size,\n",
        "    class_mode='categorical',\n",
        "    subset='training'\n",
        ")\n",
        "\n",
        "model.load_weights(\"best_model.h5\")\n",
        "test_loss, test_acc = model.evaluate(test_generator)\n",
        "print(f\"Test Accuracy: {test_acc}\")"
      ]
    },
    {
      "cell_type": "code",
      "execution_count": null,
      "metadata": {
        "id": "G36YcOy61HvE"
      },
      "outputs": [],
      "source": [
        "\n",
        "# Matrice de confusion et rapport de classification\n",
        "Y_pred = model.predict(test_generator)\n",
        "y_pred = np.argmax(Y_pred, axis=1)\n",
        "print(\"Matrice de Confusion :\")\n",
        "print(confusion_matrix(test_generator.classes, y_pred))\n",
        "print(\"Rapport de Classification :\")\n",
        "target_names = ['Avec_Masque', 'Sans_Masque']\n",
        "print(classification_report(test_generator.classes, y_pred, target_names=target_names))"
      ]
    },
    {
      "cell_type": "code",
      "execution_count": null,
      "metadata": {
        "id": "TvH87B-ROF3R"
      },
      "outputs": [],
      "source": [
        "import cv2\n",
        "import numpy as np\n",
        "from tensorflow.keras.models import load_model\n",
        "from IPython.display import display, Javascript\n",
        "from google.colab.output import eval_js\n",
        "from base64 import b64decode\n",
        "\n",
        "# Charger le modèle pré-entraîné\n",
        "model = load_model(\"best_model.h5\")\n",
        "\n",
        "def take_photo_with_prediction(quality=0.8):\n",
        "    js = Javascript('''\n",
        "      async function takePhotoWithPrediction(quality) {\n",
        "        const div = document.createElement('div');\n",
        "        const video = document.createElement('video');\n",
        "        video.style.display = 'block';\n",
        "        const stream = await navigator.mediaDevices.getUserMedia({ video: true });\n",
        "\n",
        "        document.body.appendChild(video);\n",
        "        video.srcObject = stream;\n",
        "        await video.play();\n",
        "\n",
        "        // Resize the output to fit the video element.\n",
        "        google.colab.output.setIframeHeight(document.documentElement.scrollHeight, true);\n",
        "\n",
        "        const canvas = document.createElement('canvas');\n",
        "        canvas.width = video.videoWidth;\n",
        "        canvas.height = video.videoHeight;\n",
        "        const context = canvas.getContext('2d');\n",
        "        const canvasResult = document.createElement('canvas');\n",
        "        canvasResult.width = video.videoWidth;\n",
        "        canvasResult.height = video.videoHeight;\n",
        "        const contextResult = canvasResult.getContext('2d');\n",
        "\n",
        "        const model = await tf.loadLayersModel('best_model_js/model.json');\n",
        "\n",
        "        async function predictFrame() {\n",
        "          context.drawImage(video, 0, 0, video.videoWidth, video.videoHeight);\n",
        "          const imgData = context.getImageData(0, 0, video.videoWidth, video.videoHeight);\n",
        "          const img = tf.browser.fromPixels(imgData).resizeNearestNeighbor([224, 224]).toFloat().expandDims();\n",
        "          const predictions = await model.predict(img);\n",
        "          const classIndex = predictions.argMax(1).dataSync()[0];\n",
        "          contextResult.clearRect(0, 0, video.videoWidth, video.videoHeight);\n",
        "          contextResult.drawImage(video, 0, 0, video.videoWidth, video.videoHeight);\n",
        "          if (classIndex === 0) {\n",
        "            // Avec masque, dessiner un cadre vert\n",
        "            contextResult.strokeStyle = 'green';\n",
        "            contextResult.lineWidth = 4;\n",
        "            contextResult.strokeRect(0, 0, video.videoWidth, video.videoHeight);\n",
        "          }\n",
        "          return canvasResult.toDataURL('image/jpeg', quality);\n",
        "        }\n",
        "\n",
        "        window.predictFrame = predictFrame;\n",
        "\n",
        "        return new Promise((resolve) => {\n",
        "          const interval = setInterval(() => {\n",
        "            predictFrame().then((dataURL) => {\n",
        "              if (window.callPhantom) {\n",
        "                clearInterval(interval);\n",
        "              }\n",
        "              resolve(dataURL);\n",
        "            });\n",
        "          }, 100);\n",
        "        });\n",
        "      }\n",
        "      ''')\n",
        "\n",
        "    display(js)\n",
        "\n",
        "    # Appeler la fonction JavaScript pour la capture et la prédiction en temps réel\n",
        "    data = eval_js('takePhotoWithPrediction({})'.format(quality))\n",
        "\n",
        "    # Decodage de l'image capturée\n",
        "    binary = b64decode(data.split(',')[1])\n",
        "\n",
        "    return binary\n",
        "\n",
        "while True:\n",
        "    # Capturer l'image en temps réel\n",
        "    image_data = take_photo_with_prediction()\n",
        "\n",
        "    # Afficher l'image avec la prédiction\n",
        "    image_array = np.frombuffer(image_data, np.uint8)\n",
        "    image = cv2.imdecode(image_array, cv2.IMREAD_COLOR)\n",
        "    cv2.imshow(\"Webcam avec prédiction\", image)\n",
        "\n",
        "    # Appuyez sur la touche 'q' pour quitter\n",
        "    if cv2.waitKey(1) & 0xFF == ord('q'):\n",
        "        break\n",
        "\n",
        "# Fermer la fenêtre d'affichage\n",
        "cv2.destroyAllWindows()"
      ]
    },
    {
      "cell_type": "code",
      "execution_count": null,
      "metadata": {
        "id": "lP6k_c_kOF3S"
      },
      "outputs": [],
      "source": [
        "from IPython.display import Image\n",
        "try:\n",
        "  filename = take_photo()\n",
        "  print('Saved to {}'.format(filename))\n",
        "\n",
        "  # Show the image which was just taken.\n",
        "  display(Image(filename))\n",
        "except Exception as err:\n",
        "  # Errors will be thrown if the user does not have a webcam or if they do not\n",
        "  # grant the page permission to access it.\n",
        "  print(str(err))"
      ]
    },
    {
      "cell_type": "code",
      "execution_count": null,
      "metadata": {
        "id": "CYxg7vrHPh5_"
      },
      "outputs": [],
      "source": [
        "import cv2\n",
        "import numpy as np\n",
        "from tensorflow.keras.models import load_model\n",
        "import matplotlib.pyplot as plt\n",
        "\n",
        "# Charger le modèle pré-entraîné\n",
        "model = load_model(\"best_model.h5\")\n",
        "\n",
        "# Chargement de l'image\n",
        "image = cv2.imread(\"photo.jpg\")\n",
        "\n",
        "# Redimensionner l'image à la taille attendue par le modèle (224x224 pixels)\n",
        "image = cv2.resize(image, (224, 224))\n",
        "\n",
        "# Reshape l'image pour qu'elle ait la forme attendue par le modèle (1, 224, 224, 3)\n",
        "image = image.reshape((1, image.shape[0], image.shape[1], image.shape[2]))\n",
        "\n",
        "# Prédire la classe de l'image\n",
        "predictions = model.predict(image)\n",
        "\n",
        "# L'étiquette de classe prédite correspond à la classe avec la probabilité la plus élevée\n",
        "predicted_class = np.argmax(predictions)\n",
        "\n",
        "# Définir le message de prédiction\n",
        "if predicted_class == 0:\n",
        "    message = \"Avec masque\"\n",
        "else:\n",
        "    message = \"Non masque\"\n",
        "\n",
        "# Afficher l'image avec le message\n",
        "plt.imshow(cv2.cvtColor(image[0], cv2.COLOR_BGR2RGB))\n",
        "plt.title(message)\n",
        "plt.axis('off')  # Masquer les axes\n",
        "plt.show()\n"
      ]
    }
  ],
  "metadata": {
    "accelerator": "GPU",
    "colab": {
      "provenance": []
    },
    "kernelspec": {
      "display_name": "Python 3",
      "name": "python3"
    },
    "language_info": {
      "name": "python"
    }
  },
  "nbformat": 4,
  "nbformat_minor": 0
}